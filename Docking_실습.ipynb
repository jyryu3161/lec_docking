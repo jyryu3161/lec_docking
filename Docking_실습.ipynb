{
  "nbformat": 4,
  "nbformat_minor": 0,
  "metadata": {
    "colab": {
      "name": "Docking-실습.ipynb",
      "provenance": [],
      "collapsed_sections": [],
      "include_colab_link": true
    },
    "kernelspec": {
      "name": "python3",
      "display_name": "Python 3"
    },
    "accelerator": "GPU"
  },
  "cells": [
    {
      "cell_type": "markdown",
      "metadata": {
        "id": "view-in-github",
        "colab_type": "text"
      },
      "source": [
        "<a href=\"https://colab.research.google.com/github/jyryu3161/lecture/blob/main/Docking_%EC%8B%A4%EC%8A%B5.ipynb\" target=\"_parent\"><img src=\"https://colab.research.google.com/assets/colab-badge.svg\" alt=\"Open In Colab\"/></a>"
      ]
    },
    {
      "cell_type": "markdown",
      "metadata": {
        "id": "sMITd6s6hEGp"
      },
      "source": [
        "## Molecular Docking 실습"
      ]
    },
    {
      "cell_type": "markdown",
      "source": [
        "# Installation"
      ],
      "metadata": {
        "id": "FWgtcjAMFFAu"
      }
    },
    {
      "cell_type": "code",
      "source": [
        "# download & extract\n",
        "url = 'https://anaconda.org/rdkit/rdkit/2018.09.1.0/download/linux-64/rdkit-2018.09.1.0-py36h71b666b_1.tar.bz2'\n",
        "!curl -L $url | tar xj lib\n",
        "# move to python packages directory\n",
        "!mv lib/python3.6/site-packages/rdkit /usr/local/lib/python3.6/dist-packages/\n",
        "x86 = '/usr/lib/x86_64-linux-gnu'\n",
        "!mv lib/*.so.* $x86/\n",
        "# rdkit need libboost_python3.so.1.65.1\n",
        "!ln -s $x86/libboost_python3-py36.so.1.65.1 $x86/libboost_python3.so.1.65.1\n"
      ],
      "metadata": {
        "colab": {
          "base_uri": "https://localhost:8080/"
        },
        "id": "1LZQLBUmGheo",
        "outputId": "6594221f-0a15-454f-c297-828c4897ac75"
      },
      "execution_count": 4,
      "outputs": [
        {
          "output_type": "stream",
          "name": "stdout",
          "text": [
            "  % Total    % Received % Xferd  Average Speed   Time    Time     Time  Current\n",
            "                                 Dload  Upload   Total   Spent    Left  Speed\n",
            "100  4007    0  4007    0     0   3273      0 --:--:--  0:00:01 --:--:--  3276\n",
            "100 20.2M  100 20.2M    0     0  3424k      0  0:00:06  0:00:06 --:--:-- 4490k\n"
          ]
        }
      ]
    },
    {
      "cell_type": "code",
      "source": [
        "!git clone https://github.com/jyryu3161/lecture.git\n",
        "!chmod u+x ./lecture/qvina2.1"
      ],
      "metadata": {
        "colab": {
          "base_uri": "https://localhost:8080/"
        },
        "id": "W6YuKeTYvS3G",
        "outputId": "4f16ad60-02af-4f4d-c2fd-457d99edaf18"
      },
      "execution_count": 5,
      "outputs": [
        {
          "output_type": "stream",
          "name": "stdout",
          "text": [
            "Cloning into 'lecture'...\n",
            "remote: Enumerating objects: 27, done.\u001b[K\n",
            "remote: Counting objects: 100% (27/27), done.\u001b[K\n",
            "remote: Compressing objects: 100% (25/25), done.\u001b[K\n",
            "remote: Total 27 (delta 10), reused 0 (delta 0), pack-reused 0\u001b[K\n",
            "Unpacking objects: 100% (27/27), done.\n"
          ]
        }
      ]
    },
    {
      "cell_type": "code",
      "source": [
        "!pip install --pre deepchem\n",
        "!pip install ogb\n",
        "!pip install py3Dmol # 3D Molecular Visualizer\n",
        "!pip install oddt\n",
        "!pip install -U ProDy\n",
        "!apt-get install pymol "
      ],
      "metadata": {
        "colab": {
          "base_uri": "https://localhost:8080/",
          "height": 1000
        },
        "id": "2-MCMSc2d-bv",
        "outputId": "ff5ca7d9-90e4-4d2b-fb3b-f75a75f85722"
      },
      "execution_count": 6,
      "outputs": [
        {
          "metadata": {
            "tags": null
          },
          "name": "stdout",
          "output_type": "stream",
          "text": [
            "Looking in indexes: https://pypi.org/simple, https://us-python.pkg.dev/colab-wheels/public/simple/\n",
            "Collecting deepchem\n",
            "  Downloading deepchem-2.6.1-py3-none-any.whl (608 kB)\n",
            "\u001b[K     |████████████████████████████████| 608 kB 4.2 MB/s \n",
            "\u001b[?25hRequirement already satisfied: joblib in /usr/local/lib/python3.7/dist-packages (from deepchem) (1.1.0)\n",
            "Requirement already satisfied: numpy>=1.21 in /usr/local/lib/python3.7/dist-packages (from deepchem) (1.21.6)\n",
            "Requirement already satisfied: scikit-learn in /usr/local/lib/python3.7/dist-packages (from deepchem) (1.0.2)\n",
            "Collecting rdkit-pypi\n",
            "  Downloading rdkit_pypi-2022.3.4-cp37-cp37m-manylinux_2_17_x86_64.manylinux2014_x86_64.whl (22.7 MB)\n",
            "\u001b[K     |████████████████████████████████| 22.7 MB 1.3 MB/s \n",
            "\u001b[?25hRequirement already satisfied: pandas in /usr/local/lib/python3.7/dist-packages (from deepchem) (1.3.5)\n",
            "Requirement already satisfied: scipy in /usr/local/lib/python3.7/dist-packages (from deepchem) (1.7.3)\n",
            "Requirement already satisfied: pytz>=2017.3 in /usr/local/lib/python3.7/dist-packages (from pandas->deepchem) (2022.1)\n",
            "Requirement already satisfied: python-dateutil>=2.7.3 in /usr/local/lib/python3.7/dist-packages (from pandas->deepchem) (2.8.2)\n",
            "Requirement already satisfied: six>=1.5 in /usr/local/lib/python3.7/dist-packages (from python-dateutil>=2.7.3->pandas->deepchem) (1.15.0)\n",
            "Requirement already satisfied: Pillow in /usr/local/lib/python3.7/dist-packages (from rdkit-pypi->deepchem) (7.1.2)\n",
            "Requirement already satisfied: threadpoolctl>=2.0.0 in /usr/local/lib/python3.7/dist-packages (from scikit-learn->deepchem) (3.1.0)\n",
            "Installing collected packages: rdkit-pypi, deepchem\n",
            "Successfully installed deepchem-2.6.1 rdkit-pypi-2022.3.4\n",
            "Looking in indexes: https://pypi.org/simple, https://us-python.pkg.dev/colab-wheels/public/simple/\n",
            "Collecting ogb\n",
            "  Downloading ogb-1.3.3-py3-none-any.whl (78 kB)\n",
            "\u001b[K     |████████████████████████████████| 78 kB 3.4 MB/s \n",
            "\u001b[?25hRequirement already satisfied: scikit-learn>=0.20.0 in /usr/local/lib/python3.7/dist-packages (from ogb) (1.0.2)\n",
            "Requirement already satisfied: numpy>=1.16.0 in /usr/local/lib/python3.7/dist-packages (from ogb) (1.21.6)\n",
            "Requirement already satisfied: six>=1.12.0 in /usr/local/lib/python3.7/dist-packages (from ogb) (1.15.0)\n",
            "Collecting outdated>=0.2.0\n",
            "  Downloading outdated-0.2.1-py3-none-any.whl (7.5 kB)\n",
            "Requirement already satisfied: tqdm>=4.29.0 in /usr/local/lib/python3.7/dist-packages (from ogb) (4.64.0)\n",
            "Requirement already satisfied: torch>=1.6.0 in /usr/local/lib/python3.7/dist-packages (from ogb) (1.12.0+cu113)\n",
            "Requirement already satisfied: pandas>=0.24.0 in /usr/local/lib/python3.7/dist-packages (from ogb) (1.3.5)\n",
            "Requirement already satisfied: urllib3>=1.24.0 in /usr/local/lib/python3.7/dist-packages (from ogb) (1.24.3)\n",
            "Collecting littleutils\n",
            "  Downloading littleutils-0.2.2.tar.gz (6.6 kB)\n",
            "Requirement already satisfied: requests in /usr/local/lib/python3.7/dist-packages (from outdated>=0.2.0->ogb) (2.23.0)\n",
            "Requirement already satisfied: python-dateutil>=2.7.3 in /usr/local/lib/python3.7/dist-packages (from pandas>=0.24.0->ogb) (2.8.2)\n",
            "Requirement already satisfied: pytz>=2017.3 in /usr/local/lib/python3.7/dist-packages (from pandas>=0.24.0->ogb) (2022.1)\n",
            "Requirement already satisfied: threadpoolctl>=2.0.0 in /usr/local/lib/python3.7/dist-packages (from scikit-learn>=0.20.0->ogb) (3.1.0)\n",
            "Requirement already satisfied: joblib>=0.11 in /usr/local/lib/python3.7/dist-packages (from scikit-learn>=0.20.0->ogb) (1.1.0)\n",
            "Requirement already satisfied: scipy>=1.1.0 in /usr/local/lib/python3.7/dist-packages (from scikit-learn>=0.20.0->ogb) (1.7.3)\n",
            "Requirement already satisfied: typing-extensions in /usr/local/lib/python3.7/dist-packages (from torch>=1.6.0->ogb) (4.1.1)\n",
            "Requirement already satisfied: idna<3,>=2.5 in /usr/local/lib/python3.7/dist-packages (from requests->outdated>=0.2.0->ogb) (2.10)\n",
            "Requirement already satisfied: chardet<4,>=3.0.2 in /usr/local/lib/python3.7/dist-packages (from requests->outdated>=0.2.0->ogb) (3.0.4)\n",
            "Requirement already satisfied: certifi>=2017.4.17 in /usr/local/lib/python3.7/dist-packages (from requests->outdated>=0.2.0->ogb) (2022.6.15)\n",
            "Building wheels for collected packages: littleutils\n",
            "  Building wheel for littleutils (setup.py) ... \u001b[?25l\u001b[?25hdone\n",
            "  Created wheel for littleutils: filename=littleutils-0.2.2-py3-none-any.whl size=7048 sha256=e32536bfdec0e965de1a65609125da9fb7c42ea615dc8a544f46dbc6a890c4f5\n",
            "  Stored in directory: /root/.cache/pip/wheels/d6/64/cd/32819b511a488e4993f2fab909a95330289c3f4e0f6ef4676d\n",
            "Successfully built littleutils\n",
            "Installing collected packages: littleutils, outdated, ogb\n",
            "Successfully installed littleutils-0.2.2 ogb-1.3.3 outdated-0.2.1\n",
            "Looking in indexes: https://pypi.org/simple, https://us-python.pkg.dev/colab-wheels/public/simple/\n",
            "Collecting py3Dmol\n",
            "  Downloading py3Dmol-1.8.0-py2.py3-none-any.whl (6.4 kB)\n",
            "Installing collected packages: py3Dmol\n",
            "Successfully installed py3Dmol-1.8.0\n",
            "Looking in indexes: https://pypi.org/simple, https://us-python.pkg.dev/colab-wheels/public/simple/\n",
            "Collecting oddt\n",
            "  Downloading oddt-0.7.tar.gz (2.3 MB)\n",
            "\u001b[K     |████████████████████████████████| 2.3 MB 4.3 MB/s \n",
            "\u001b[?25hCollecting numpydoc\n",
            "  Downloading numpydoc-1.4.0-py3-none-any.whl (51 kB)\n",
            "\u001b[K     |████████████████████████████████| 51 kB 746 kB/s \n",
            "\u001b[?25hRequirement already satisfied: six in /usr/local/lib/python3.7/dist-packages (from oddt) (1.15.0)\n",
            "Requirement already satisfied: numpy>=1.11 in /usr/local/lib/python3.7/dist-packages (from oddt) (1.21.6)\n",
            "Requirement already satisfied: scipy>=0.17 in /usr/local/lib/python3.7/dist-packages (from oddt) (1.7.3)\n",
            "Requirement already satisfied: scikit-learn>=0.18 in /usr/local/lib/python3.7/dist-packages (from oddt) (1.0.2)\n",
            "Requirement already satisfied: joblib>=0.9.4 in /usr/local/lib/python3.7/dist-packages (from oddt) (1.1.0)\n",
            "Requirement already satisfied: pandas>=0.19.2 in /usr/local/lib/python3.7/dist-packages (from oddt) (1.3.5)\n",
            "Requirement already satisfied: pytz>=2017.3 in /usr/local/lib/python3.7/dist-packages (from pandas>=0.19.2->oddt) (2022.1)\n",
            "Requirement already satisfied: python-dateutil>=2.7.3 in /usr/local/lib/python3.7/dist-packages (from pandas>=0.19.2->oddt) (2.8.2)\n",
            "Requirement already satisfied: threadpoolctl>=2.0.0 in /usr/local/lib/python3.7/dist-packages (from scikit-learn>=0.18->oddt) (3.1.0)\n",
            "Requirement already satisfied: Jinja2>=2.10 in /usr/local/lib/python3.7/dist-packages (from numpydoc->oddt) (2.11.3)\n",
            "Collecting sphinx>=3.0\n",
            "  Downloading Sphinx-5.1.1-py3-none-any.whl (3.2 MB)\n",
            "\u001b[K     |████████████████████████████████| 3.2 MB 39.7 MB/s \n",
            "\u001b[?25hRequirement already satisfied: MarkupSafe>=0.23 in /usr/local/lib/python3.7/dist-packages (from Jinja2>=2.10->numpydoc->oddt) (2.0.1)\n",
            "Requirement already satisfied: sphinxcontrib-serializinghtml>=1.1.5 in /usr/local/lib/python3.7/dist-packages (from sphinx>=3.0->numpydoc->oddt) (1.1.5)\n",
            "Collecting sphinxcontrib-devhelp\n",
            "  Downloading sphinxcontrib_devhelp-1.0.2-py2.py3-none-any.whl (84 kB)\n",
            "\u001b[K     |████████████████████████████████| 84 kB 3.9 MB/s \n",
            "\u001b[?25hCollecting sphinxcontrib-applehelp\n",
            "  Downloading sphinxcontrib_applehelp-1.0.2-py2.py3-none-any.whl (121 kB)\n",
            "\u001b[K     |████████████████████████████████| 121 kB 72.9 MB/s \n",
            "\u001b[?25hCollecting sphinxcontrib-qthelp\n",
            "  Downloading sphinxcontrib_qthelp-1.0.3-py2.py3-none-any.whl (90 kB)\n",
            "\u001b[K     |████████████████████████████████| 90 kB 11.1 MB/s \n",
            "\u001b[?25hRequirement already satisfied: requests>=2.5.0 in /usr/local/lib/python3.7/dist-packages (from sphinx>=3.0->numpydoc->oddt) (2.23.0)\n",
            "Requirement already satisfied: packaging in /usr/local/lib/python3.7/dist-packages (from sphinx>=3.0->numpydoc->oddt) (21.3)\n",
            "Requirement already satisfied: importlib-metadata>=4.4 in /usr/local/lib/python3.7/dist-packages (from sphinx>=3.0->numpydoc->oddt) (4.12.0)\n",
            "Requirement already satisfied: docutils<0.20,>=0.14 in /usr/local/lib/python3.7/dist-packages (from sphinx>=3.0->numpydoc->oddt) (0.17.1)\n",
            "Requirement already satisfied: Pygments>=2.0 in /usr/local/lib/python3.7/dist-packages (from sphinx>=3.0->numpydoc->oddt) (2.6.1)\n",
            "Collecting sphinxcontrib-htmlhelp>=2.0.0\n",
            "  Downloading sphinxcontrib_htmlhelp-2.0.0-py2.py3-none-any.whl (100 kB)\n",
            "\u001b[K     |████████████████████████████████| 100 kB 8.0 MB/s \n",
            "\u001b[?25hCollecting sphinxcontrib-jsmath\n",
            "  Downloading sphinxcontrib_jsmath-1.0.1-py2.py3-none-any.whl (5.1 kB)\n",
            "Requirement already satisfied: babel>=1.3 in /usr/local/lib/python3.7/dist-packages (from sphinx>=3.0->numpydoc->oddt) (2.10.3)\n",
            "Requirement already satisfied: alabaster<0.8,>=0.7 in /usr/local/lib/python3.7/dist-packages (from sphinx>=3.0->numpydoc->oddt) (0.7.12)\n",
            "Requirement already satisfied: imagesize in /usr/local/lib/python3.7/dist-packages (from sphinx>=3.0->numpydoc->oddt) (1.4.1)\n",
            "Requirement already satisfied: snowballstemmer>=1.1 in /usr/local/lib/python3.7/dist-packages (from sphinx>=3.0->numpydoc->oddt) (2.2.0)\n",
            "Requirement already satisfied: typing-extensions>=3.6.4 in /usr/local/lib/python3.7/dist-packages (from importlib-metadata>=4.4->sphinx>=3.0->numpydoc->oddt) (4.1.1)\n",
            "Requirement already satisfied: zipp>=0.5 in /usr/local/lib/python3.7/dist-packages (from importlib-metadata>=4.4->sphinx>=3.0->numpydoc->oddt) (3.8.1)\n",
            "Requirement already satisfied: chardet<4,>=3.0.2 in /usr/local/lib/python3.7/dist-packages (from requests>=2.5.0->sphinx>=3.0->numpydoc->oddt) (3.0.4)\n",
            "Requirement already satisfied: idna<3,>=2.5 in /usr/local/lib/python3.7/dist-packages (from requests>=2.5.0->sphinx>=3.0->numpydoc->oddt) (2.10)\n",
            "Requirement already satisfied: certifi>=2017.4.17 in /usr/local/lib/python3.7/dist-packages (from requests>=2.5.0->sphinx>=3.0->numpydoc->oddt) (2022.6.15)\n",
            "Requirement already satisfied: urllib3!=1.25.0,!=1.25.1,<1.26,>=1.21.1 in /usr/local/lib/python3.7/dist-packages (from requests>=2.5.0->sphinx>=3.0->numpydoc->oddt) (1.24.3)\n",
            "Requirement already satisfied: pyparsing!=3.0.5,>=2.0.2 in /usr/local/lib/python3.7/dist-packages (from packaging->sphinx>=3.0->numpydoc->oddt) (3.0.9)\n",
            "Building wheels for collected packages: oddt\n",
            "  Building wheel for oddt (setup.py) ... \u001b[?25l\u001b[?25hdone\n",
            "  Created wheel for oddt: filename=oddt-0.7-py2.py3-none-any.whl size=2409558 sha256=5af2d39f8ea4d19f29d3b1dc2e072b1673add4a9a931eef70021da77d83772d6\n",
            "  Stored in directory: /root/.cache/pip/wheels/d6/43/d5/d9cd8676d2d1bf10e0becb3f75d52b8ff354fdd691974524c0\n",
            "Successfully built oddt\n",
            "Installing collected packages: sphinxcontrib-qthelp, sphinxcontrib-jsmath, sphinxcontrib-htmlhelp, sphinxcontrib-devhelp, sphinxcontrib-applehelp, sphinx, numpydoc, oddt\n",
            "  Attempting uninstall: sphinx\n",
            "    Found existing installation: Sphinx 1.8.6\n",
            "    Uninstalling Sphinx-1.8.6:\n",
            "      Successfully uninstalled Sphinx-1.8.6\n",
            "Successfully installed numpydoc-1.4.0 oddt-0.7 sphinx-5.1.1 sphinxcontrib-applehelp-1.0.2 sphinxcontrib-devhelp-1.0.2 sphinxcontrib-htmlhelp-2.0.0 sphinxcontrib-jsmath-1.0.1 sphinxcontrib-qthelp-1.0.3\n"
          ]
        },
        {
          "data": {
            "application/vnd.colab-display-data+json": {
              "pip_warning": {
                "packages": [
                  "sphinxcontrib"
                ]
              }
            }
          },
          "metadata": {},
          "output_type": "display_data"
        },
        {
          "metadata": {
            "tags": null
          },
          "name": "stdout",
          "output_type": "stream",
          "text": [
            "Looking in indexes: https://pypi.org/simple, https://us-python.pkg.dev/colab-wheels/public/simple/\n",
            "Collecting ProDy\n",
            "  Downloading ProDy-2.2.0.tar.gz (11.9 MB)\n",
            "\u001b[K     |████████████████████████████████| 11.9 MB 3.7 MB/s \n",
            "\u001b[?25h  Installing build dependencies ... \u001b[?25l\u001b[?25hdone\n",
            "  Getting requirements to build wheel ... \u001b[?25l\u001b[?25hdone\n",
            "    Preparing wheel metadata ... \u001b[?25l\u001b[?25hdone\n",
            "Requirement already satisfied: numpy>=1.10 in /usr/local/lib/python3.7/dist-packages (from ProDy) (1.21.6)\n",
            "Requirement already satisfied: pyparsing in /usr/local/lib/python3.7/dist-packages (from ProDy) (3.0.9)\n",
            "Requirement already satisfied: scipy in /usr/local/lib/python3.7/dist-packages (from ProDy) (1.7.3)\n",
            "Collecting biopython<=1.76\n",
            "  Using cached biopython-1.76-cp37-cp37m-manylinux1_x86_64.whl (2.3 MB)\n",
            "Building wheels for collected packages: ProDy\n",
            "  Building wheel for ProDy (PEP 517) ... \u001b[?25l\u001b[?25hdone\n",
            "  Created wheel for ProDy: filename=ProDy-2.2.0-cp37-cp37m-linux_x86_64.whl size=10816240 sha256=5e92c294501a642c787dd18c42403a2ae7179efb109999bca7972423dd0f99d1\n",
            "  Stored in directory: /root/.cache/pip/wheels/fc/59/47/97758bdbc4d5edf0aad1f7ccfeac5c687f6c2694d5efdb7571\n",
            "Successfully built ProDy\n",
            "Installing collected packages: biopython, ProDy\n",
            "Successfully installed ProDy-2.2.0 biopython-1.76\n",
            "Reading package lists... Done\n",
            "Building dependency tree       \n",
            "Reading state information... Done\n",
            "The following package was automatically installed and is no longer required:\n",
            "  libnvidia-common-460\n",
            "Use 'apt autoremove' to remove it.\n",
            "The following additional packages will be installed:\n",
            "  apbs libglew2.0 libmaloc1 pymol-data python-opengl python-pmw\n",
            "Suggested packages:\n",
            "  glew-utils libgle3 python-pmw-doc\n",
            "The following NEW packages will be installed:\n",
            "  apbs libglew2.0 libmaloc1 pymol pymol-data python-opengl python-pmw\n",
            "0 upgraded, 7 newly installed, 0 to remove and 49 not upgraded.\n",
            "Need to get 5,912 kB of archives.\n",
            "After this operation, 26.3 MB of additional disk space will be used.\n",
            "Get:1 http://archive.ubuntu.com/ubuntu bionic/universe amd64 libmaloc1 amd64 0.2-3.1 [48.3 kB]\n",
            "Get:2 http://archive.ubuntu.com/ubuntu bionic/universe amd64 apbs amd64 1.4-1build1 [218 kB]\n",
            "Get:3 http://archive.ubuntu.com/ubuntu bionic/universe amd64 libglew2.0 amd64 2.0.0-5 [140 kB]\n",
            "Get:4 http://archive.ubuntu.com/ubuntu bionic/universe amd64 python-pmw all 1.3.2-6build1 [79.5 kB]\n",
            "Get:5 http://archive.ubuntu.com/ubuntu bionic/universe amd64 python-opengl all 3.1.0+dfsg-1 [496 kB]\n",
            "Get:6 http://archive.ubuntu.com/ubuntu bionic/universe amd64 pymol-data all 1.8.4.0+dfsg-1build1 [1,193 kB]\n",
            "Get:7 http://archive.ubuntu.com/ubuntu bionic/universe amd64 pymol amd64 1.8.4.0+dfsg-1build1 [3,737 kB]\n",
            "Fetched 5,912 kB in 2s (2,759 kB/s)\n",
            "Selecting previously unselected package libmaloc1.\n",
            "(Reading database ... 155673 files and directories currently installed.)\n",
            "Preparing to unpack .../0-libmaloc1_0.2-3.1_amd64.deb ...\n",
            "Unpacking libmaloc1 (0.2-3.1) ...\n",
            "Selecting previously unselected package apbs.\n",
            "Preparing to unpack .../1-apbs_1.4-1build1_amd64.deb ...\n",
            "Unpacking apbs (1.4-1build1) ...\n",
            "Selecting previously unselected package libglew2.0:amd64.\n",
            "Preparing to unpack .../2-libglew2.0_2.0.0-5_amd64.deb ...\n",
            "Unpacking libglew2.0:amd64 (2.0.0-5) ...\n",
            "Selecting previously unselected package python-pmw.\n",
            "Preparing to unpack .../3-python-pmw_1.3.2-6build1_all.deb ...\n",
            "Unpacking python-pmw (1.3.2-6build1) ...\n",
            "Selecting previously unselected package python-opengl.\n",
            "Preparing to unpack .../4-python-opengl_3.1.0+dfsg-1_all.deb ...\n",
            "Unpacking python-opengl (3.1.0+dfsg-1) ...\n",
            "Selecting previously unselected package pymol-data.\n",
            "Preparing to unpack .../5-pymol-data_1.8.4.0+dfsg-1build1_all.deb ...\n",
            "Unpacking pymol-data (1.8.4.0+dfsg-1build1) ...\n",
            "Selecting previously unselected package pymol.\n",
            "Preparing to unpack .../6-pymol_1.8.4.0+dfsg-1build1_amd64.deb ...\n",
            "Unpacking pymol (1.8.4.0+dfsg-1build1) ...\n",
            "Setting up python-opengl (3.1.0+dfsg-1) ...\n",
            "Setting up pymol-data (1.8.4.0+dfsg-1build1) ...\n",
            "Setting up python-pmw (1.3.2-6build1) ...\n",
            "Setting up libmaloc1 (0.2-3.1) ...\n",
            "Setting up libglew2.0:amd64 (2.0.0-5) ...\n",
            "Setting up apbs (1.4-1build1) ...\n",
            "Setting up pymol (1.8.4.0+dfsg-1build1) ...\n",
            "Processing triggers for mime-support (3.60ubuntu1) ...\n",
            "Processing triggers for libc-bin (2.27-3ubuntu1.3) ...\n",
            "Processing triggers for man-db (2.8.3-2ubuntu0.1) ...\n"
          ]
        }
      ]
    },
    {
      "cell_type": "markdown",
      "source": [
        "# Input setting"
      ],
      "metadata": {
        "id": "9XTof7TSFOS3"
      }
    },
    {
      "cell_type": "code",
      "source": [
        "pdb_id = '6M0K'\n",
        "ligand_Id = 'FJC'\n",
        "smiles = 'c1ccc2c(c1)cc([nH]2)C(=O)N[C@@H](Cc3cccc(c3)F)C(=O)N[C@@H](C[C@@H]4CCNC4=O)C=O'\n",
        "\n",
        "docking_output_dir = './output/'"
      ],
      "metadata": {
        "id": "MytDY8p_FOZA"
      },
      "execution_count": null,
      "outputs": []
    },
    {
      "cell_type": "markdown",
      "source": [
        "# Run molecular docking"
      ],
      "metadata": {
        "id": "eAKnHmsrFS2p"
      }
    },
    {
      "cell_type": "code",
      "source": [
        "import py3Dmol\n",
        "import rdkit\n",
        "from rdkit import Chem\n",
        "from rdkit.Chem import AllChem\n",
        "\n",
        "def make_3d_coordinate(m):\n",
        "    target_mols = []\n",
        "    m = Chem.AddHs(m)\n",
        "    potential = AllChem.ETKDG()\n",
        "    AllChem.EmbedMolecule(m, potential)\n",
        "    cids = AllChem.EmbedMultipleConfs(m, numConfs=1, numThreads=15)\n",
        "    \n",
        "    for conf in m.GetConformers():\n",
        "        tm = Chem.Mol(m,False,conf.GetId())\n",
        "        res = AllChem.MMFFOptimizeMoleculeConfs(tm)\n",
        "        target_mols.append(tm)\n",
        "    return target_mols[0]\n",
        "\n",
        "def drawit2(m,confId=-1):\n",
        "    mb = Chem.MolToMolBlock(m,confId=confId)\n",
        "    p = py3Dmol.view(width=400, height=400)\n",
        "    p.addModel(mb,'sdf')\n",
        "    p.setStyle({'stick':{}})\n",
        "    p.setBackgroundColor('0xeeeeee')\n",
        "    p.zoomTo()\n",
        "    return p\n",
        "\n",
        "def DrawComplex(protein,ligand):\n",
        "    complex_pl = Chem.MolToPDBBlock(Chem.CombineMols(protein,ligand))\n",
        "    view = py3Dmol.view(width=600,height=600)\n",
        "    view.addModel(complex_pl,'pdb')\n",
        "    chA = {'chain':['H','L','I']}\n",
        "    chB = {'resn':'UNL'}\n",
        "    view.setStyle(chA,{'cartoon': {'color':'spectrum'}})\n",
        "    #view.setStyle(chA,{'lines': {}})\n",
        "    view.addSurface(py3Dmol.VDW,{'opacity':0.8}, chB)\n",
        "    view.setStyle(chB,{'stick':{}})\n",
        "    view.zoomTo()\n",
        "    return view   \n"
      ],
      "metadata": {
        "id": "r9lrjsfbwPok"
      },
      "execution_count": null,
      "outputs": []
    },
    {
      "cell_type": "code",
      "source": [
        "from prody import *\n",
        "import os\n",
        "\n",
        "try:\n",
        "    os.mkdir(docking_output_dir)\n",
        "except:\n",
        "    pass\n",
        "\n",
        "pdb = parsePDB(pdb_id)\n",
        "\n",
        "protein = pdb.select('protein')\n",
        "ligand = pdb.select('resname %s'%(ligand_Id))\n",
        "\n",
        "writePDB('protein.pdb', protein)\n",
        "writePDB('ligand.pdb', ligand)\n"
      ],
      "metadata": {
        "id": "XO9QSCTeDkhH",
        "colab": {
          "base_uri": "https://localhost:8080/",
          "height": 174
        },
        "outputId": "e1d1c7e4-46dc-4f2b-e4c3-777270ad829a"
      },
      "execution_count": null,
      "outputs": [
        {
          "output_type": "stream",
          "name": "stderr",
          "text": [
            "@> Connecting wwPDB FTP server RCSB PDB (USA).\n",
            "DEBUG:.prody:Connecting wwPDB FTP server RCSB PDB (USA).\n",
            "@> 6m0k downloaded (6m0k.pdb.gz)\n",
            "DEBUG:.prody:6m0k downloaded (6m0k.pdb.gz)\n",
            "@> PDB download via FTP completed (1 downloaded, 0 failed).\n",
            "DEBUG:.prody:PDB download via FTP completed (1 downloaded, 0 failed).\n",
            "@> 2560 atoms and 1 coordinate set(s) were parsed in 0.04s.\n",
            "DEBUG:.prody:2560 atoms and 1 coordinate set(s) were parsed in 0.04s.\n"
          ]
        },
        {
          "output_type": "execute_result",
          "data": {
            "text/plain": [
              "'ligand.pdb'"
            ],
            "application/vnd.google.colaboratory.intrinsic+json": {
              "type": "string"
            }
          },
          "metadata": {},
          "execution_count": 9
        }
      ]
    },
    {
      "cell_type": "code",
      "source": [
        "import rdkit\n",
        "from rdkit import Chem\n",
        "from rdkit.Chem import AllChem\n",
        "\n",
        "mol = Chem.MolFromSmiles(smiles)    \n",
        "mol = Chem.AddHs(mol)\n",
        "\n",
        "mol = make_3d_coordinate(mol)\n",
        "\n",
        "with Chem.SDWriter('molecule.sdf') as w:\n",
        "    w.write(mol)\n",
        "\n"
      ],
      "metadata": {
        "id": "ogZOTCrIj77f"
      },
      "execution_count": null,
      "outputs": []
    },
    {
      "cell_type": "code",
      "source": [
        "import oddt\n",
        "from oddt.docking.AutodockVina import autodock_vina\n",
        "from oddt.docking import AutodockVina\n",
        "\n",
        "protein_file = './protein.pdb'\n",
        "ligand_file = './ligand.pdb'\n",
        "\n",
        "protein = next(oddt.toolkit.readfile('pdb', protein_file))\n",
        "protein.protein = True\n",
        "ligand = next(oddt.toolkit.readfile('pdb', ligand_file))\n",
        "\n",
        "mol = Chem.MolFromMolFile('molecule.sdf')\n",
        "mol2 = Chem.MolToMolBlock(mol)\n",
        "dock_mol = oddt.toolkit.readstring('sdf', mol2)\n",
        "\n",
        "protein.addh(only_polar=True)\n",
        "ligand.addh(only_polar=True)\n",
        "\n",
        "vina_obj = autodock_vina(protein=protein, auto_ligand=ligand, size=(20, 20, 20), num_modes=3, exhaustiveness=16, executable='./lecture/qvina2.1')\n",
        "\n",
        "docking_outputs = vina_obj.dock([dock_mol])\n",
        "docking_cnt = 1\n",
        "for each_output in docking_outputs:\n",
        "    vina_affinity = each_output.data['vina_affinity']\n",
        "    AutodockVina.write_vina_pdbqt(each_output, docking_output_dir, name_id='docking_pose_%s'%(docking_cnt))\n",
        "    \n",
        "    print (\"%s docking pose's binding energy (kcal/mol) : %s\"%(docking_cnt, vina_affinity))\n",
        "    docking_cnt+=1\n",
        "\n",
        "\n"
      ],
      "metadata": {
        "colab": {
          "base_uri": "https://localhost:8080/"
        },
        "id": "NGx4r4N2Es3V",
        "outputId": "a775817f-ad10-4fca-b9c7-bdda4d7d7691"
      },
      "execution_count": null,
      "outputs": [
        {
          "output_type": "stream",
          "name": "stdout",
          "text": [
            "1 docking pose's binding energy (kcal/mol) : -7.5\n",
            "2 docking pose's binding energy (kcal/mol) : -7.4\n",
            "3 docking pose's binding energy (kcal/mol) : -7.2\n"
          ]
        }
      ]
    },
    {
      "cell_type": "markdown",
      "source": [
        "# Visualization"
      ],
      "metadata": {
        "id": "RLDRt4nqFoQU"
      }
    },
    {
      "cell_type": "code",
      "source": [
        "filename = './output/docking_pose_1.pdbqt'\n",
        "\n",
        "ligand = next(oddt.toolkit.readfile('pdbqt', filename))\n",
        "\n",
        "protein = Chem.MolFromPDBFile('protein.pdb')\n",
        "DrawComplex(protein, ligand.Mol)\n"
      ],
      "metadata": {
        "colab": {
          "base_uri": "https://localhost:8080/",
          "height": 236
        },
        "id": "vc-M7BxOoAYg",
        "outputId": "3d21a2db-4af7-4287-e16a-f23bde43365f"
      },
      "execution_count": 2,
      "outputs": [
        {
          "output_type": "error",
          "ename": "NameError",
          "evalue": "ignored",
          "traceback": [
            "\u001b[0;31m---------------------------------------------------------------------------\u001b[0m",
            "\u001b[0;31mNameError\u001b[0m                                 Traceback (most recent call last)",
            "\u001b[0;32m<ipython-input-2-58b0d76b1305>\u001b[0m in \u001b[0;36m<module>\u001b[0;34m()\u001b[0m\n\u001b[1;32m      1\u001b[0m \u001b[0mfilename\u001b[0m \u001b[0;34m=\u001b[0m \u001b[0;34m'./output/docking_pose_1.pdbqt'\u001b[0m\u001b[0;34m\u001b[0m\u001b[0;34m\u001b[0m\u001b[0m\n\u001b[1;32m      2\u001b[0m \u001b[0;34m\u001b[0m\u001b[0m\n\u001b[0;32m----> 3\u001b[0;31m \u001b[0mligand\u001b[0m \u001b[0;34m=\u001b[0m \u001b[0mnext\u001b[0m\u001b[0;34m(\u001b[0m\u001b[0moddt\u001b[0m\u001b[0;34m.\u001b[0m\u001b[0mtoolkit\u001b[0m\u001b[0;34m.\u001b[0m\u001b[0mreadfile\u001b[0m\u001b[0;34m(\u001b[0m\u001b[0;34m'pdbqt'\u001b[0m\u001b[0;34m,\u001b[0m \u001b[0mfilename\u001b[0m\u001b[0;34m)\u001b[0m\u001b[0;34m)\u001b[0m\u001b[0;34m\u001b[0m\u001b[0;34m\u001b[0m\u001b[0m\n\u001b[0m\u001b[1;32m      4\u001b[0m \u001b[0;34m\u001b[0m\u001b[0m\n\u001b[1;32m      5\u001b[0m \u001b[0mprotein\u001b[0m \u001b[0;34m=\u001b[0m \u001b[0mChem\u001b[0m\u001b[0;34m.\u001b[0m\u001b[0mMolFromPDBFile\u001b[0m\u001b[0;34m(\u001b[0m\u001b[0;34m'protein.pdb'\u001b[0m\u001b[0;34m)\u001b[0m\u001b[0;34m\u001b[0m\u001b[0;34m\u001b[0m\u001b[0m\n",
            "\u001b[0;31mNameError\u001b[0m: name 'oddt' is not defined"
          ]
        }
      ]
    }
  ]
}